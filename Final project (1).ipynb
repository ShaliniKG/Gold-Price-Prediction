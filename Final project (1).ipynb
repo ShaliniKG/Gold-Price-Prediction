{
 "cells": [
  {
   "cell_type": "code",
   "execution_count": 8,
   "metadata": {
    "scrolled": true
   },
   "outputs": [],
   "source": [
    "import numpy as np\n",
    "import pandas as pd\n",
    "import matplotlib.pyplot as plt\n",
    "import seaborn as sns\n",
    "from sklearn.model_selection import train_test_split\n",
    "from sklearn.ensemble import RandomForestRegressor\n",
    "from sklearn import metrics\n"
   ]
  },
  {
   "cell_type": "code",
   "execution_count": 9,
   "metadata": {},
   "outputs": [
    {
     "data": {
      "text/html": [
       "<div>\n",
       "<style scoped>\n",
       "    .dataframe tbody tr th:only-of-type {\n",
       "        vertical-align: middle;\n",
       "    }\n",
       "\n",
       "    .dataframe tbody tr th {\n",
       "        vertical-align: top;\n",
       "    }\n",
       "\n",
       "    .dataframe thead th {\n",
       "        text-align: right;\n",
       "    }\n",
       "</style>\n",
       "<table border=\"1\" class=\"dataframe\">\n",
       "  <thead>\n",
       "    <tr style=\"text-align: right;\">\n",
       "      <th></th>\n",
       "      <th>Date</th>\n",
       "      <th>SPX</th>\n",
       "      <th>GLD</th>\n",
       "      <th>USO</th>\n",
       "      <th>SLV</th>\n",
       "      <th>EUR/USD</th>\n",
       "    </tr>\n",
       "  </thead>\n",
       "  <tbody>\n",
       "    <tr>\n",
       "      <th>0</th>\n",
       "      <td>1/2/2008</td>\n",
       "      <td>1447.160034</td>\n",
       "      <td>84.860001</td>\n",
       "      <td>78.470001</td>\n",
       "      <td>15.180</td>\n",
       "      <td>1.471692</td>\n",
       "    </tr>\n",
       "    <tr>\n",
       "      <th>1</th>\n",
       "      <td>1/3/2008</td>\n",
       "      <td>1447.160034</td>\n",
       "      <td>85.570000</td>\n",
       "      <td>78.370003</td>\n",
       "      <td>15.285</td>\n",
       "      <td>1.474491</td>\n",
       "    </tr>\n",
       "    <tr>\n",
       "      <th>2</th>\n",
       "      <td>1/4/2008</td>\n",
       "      <td>1411.630005</td>\n",
       "      <td>85.129997</td>\n",
       "      <td>77.309998</td>\n",
       "      <td>15.167</td>\n",
       "      <td>1.475492</td>\n",
       "    </tr>\n",
       "    <tr>\n",
       "      <th>3</th>\n",
       "      <td>1/7/2008</td>\n",
       "      <td>1416.180054</td>\n",
       "      <td>84.769997</td>\n",
       "      <td>75.500000</td>\n",
       "      <td>15.053</td>\n",
       "      <td>1.468299</td>\n",
       "    </tr>\n",
       "    <tr>\n",
       "      <th>4</th>\n",
       "      <td>1/8/2008</td>\n",
       "      <td>1390.189941</td>\n",
       "      <td>86.779999</td>\n",
       "      <td>76.059998</td>\n",
       "      <td>15.590</td>\n",
       "      <td>1.557099</td>\n",
       "    </tr>\n",
       "  </tbody>\n",
       "</table>\n",
       "</div>"
      ],
      "text/plain": [
       "       Date          SPX        GLD        USO     SLV   EUR/USD\n",
       "0  1/2/2008  1447.160034  84.860001  78.470001  15.180  1.471692\n",
       "1  1/3/2008  1447.160034  85.570000  78.370003  15.285  1.474491\n",
       "2  1/4/2008  1411.630005  85.129997  77.309998  15.167  1.475492\n",
       "3  1/7/2008  1416.180054  84.769997  75.500000  15.053  1.468299\n",
       "4  1/8/2008  1390.189941  86.779999  76.059998  15.590  1.557099"
      ]
     },
     "execution_count": 9,
     "metadata": {},
     "output_type": "execute_result"
    }
   ],
   "source": [
    "# Data collection processing\n",
    "gold_data = pd.read_csv('gold_price_data.csv')\n",
    "gold_data.head()"
   ]
  },
  {
   "cell_type": "code",
   "execution_count": 6,
   "metadata": {},
   "outputs": [
    {
     "data": {
      "text/plain": [
       "(2290, 6)"
      ]
     },
     "execution_count": 6,
     "metadata": {},
     "output_type": "execute_result"
    }
   ],
   "source": [
    "gold_data.shape"
   ]
  },
  {
   "cell_type": "code",
   "execution_count": 7,
   "metadata": {},
   "outputs": [
    {
     "name": "stdout",
     "output_type": "stream",
     "text": [
      "<class 'pandas.core.frame.DataFrame'>\n",
      "RangeIndex: 2290 entries, 0 to 2289\n",
      "Data columns (total 6 columns):\n",
      "Date       2290 non-null object\n",
      "SPX        2290 non-null float64\n",
      "GLD        2290 non-null float64\n",
      "USO        2290 non-null float64\n",
      "SLV        2290 non-null float64\n",
      "EUR/USD    2290 non-null float64\n",
      "dtypes: float64(5), object(1)\n",
      "memory usage: 107.4+ KB\n"
     ]
    }
   ],
   "source": [
    "gold_data.info()"
   ]
  },
  {
   "cell_type": "code",
   "execution_count": 8,
   "metadata": {},
   "outputs": [
    {
     "data": {
      "text/plain": [
       "Date       0\n",
       "SPX        0\n",
       "GLD        0\n",
       "USO        0\n",
       "SLV        0\n",
       "EUR/USD    0\n",
       "dtype: int64"
      ]
     },
     "execution_count": 8,
     "metadata": {},
     "output_type": "execute_result"
    }
   ],
   "source": [
    "# checking the number of missing values\n",
    "gold_data.isnull().sum()"
   ]
  },
  {
   "cell_type": "code",
   "execution_count": 9,
   "metadata": {},
   "outputs": [
    {
     "data": {
      "text/html": [
       "<div>\n",
       "<style scoped>\n",
       "    .dataframe tbody tr th:only-of-type {\n",
       "        vertical-align: middle;\n",
       "    }\n",
       "\n",
       "    .dataframe tbody tr th {\n",
       "        vertical-align: top;\n",
       "    }\n",
       "\n",
       "    .dataframe thead th {\n",
       "        text-align: right;\n",
       "    }\n",
       "</style>\n",
       "<table border=\"1\" class=\"dataframe\">\n",
       "  <thead>\n",
       "    <tr style=\"text-align: right;\">\n",
       "      <th></th>\n",
       "      <th>SPX</th>\n",
       "      <th>GLD</th>\n",
       "      <th>USO</th>\n",
       "      <th>SLV</th>\n",
       "      <th>EUR/USD</th>\n",
       "    </tr>\n",
       "  </thead>\n",
       "  <tbody>\n",
       "    <tr>\n",
       "      <th>count</th>\n",
       "      <td>2290.000000</td>\n",
       "      <td>2290.000000</td>\n",
       "      <td>2290.000000</td>\n",
       "      <td>2290.000000</td>\n",
       "      <td>2290.000000</td>\n",
       "    </tr>\n",
       "    <tr>\n",
       "      <th>mean</th>\n",
       "      <td>1654.315776</td>\n",
       "      <td>122.732875</td>\n",
       "      <td>31.842221</td>\n",
       "      <td>20.084997</td>\n",
       "      <td>1.283653</td>\n",
       "    </tr>\n",
       "    <tr>\n",
       "      <th>std</th>\n",
       "      <td>519.111540</td>\n",
       "      <td>23.283346</td>\n",
       "      <td>19.523517</td>\n",
       "      <td>7.092566</td>\n",
       "      <td>0.131547</td>\n",
       "    </tr>\n",
       "    <tr>\n",
       "      <th>min</th>\n",
       "      <td>676.530029</td>\n",
       "      <td>70.000000</td>\n",
       "      <td>7.960000</td>\n",
       "      <td>8.850000</td>\n",
       "      <td>1.039047</td>\n",
       "    </tr>\n",
       "    <tr>\n",
       "      <th>25%</th>\n",
       "      <td>1239.874969</td>\n",
       "      <td>109.725000</td>\n",
       "      <td>14.380000</td>\n",
       "      <td>15.570000</td>\n",
       "      <td>1.171313</td>\n",
       "    </tr>\n",
       "    <tr>\n",
       "      <th>50%</th>\n",
       "      <td>1551.434998</td>\n",
       "      <td>120.580002</td>\n",
       "      <td>33.869999</td>\n",
       "      <td>17.268500</td>\n",
       "      <td>1.303296</td>\n",
       "    </tr>\n",
       "    <tr>\n",
       "      <th>75%</th>\n",
       "      <td>2073.010070</td>\n",
       "      <td>132.840004</td>\n",
       "      <td>37.827501</td>\n",
       "      <td>22.882499</td>\n",
       "      <td>1.369971</td>\n",
       "    </tr>\n",
       "    <tr>\n",
       "      <th>max</th>\n",
       "      <td>2872.870117</td>\n",
       "      <td>184.589996</td>\n",
       "      <td>117.480003</td>\n",
       "      <td>47.259998</td>\n",
       "      <td>1.598798</td>\n",
       "    </tr>\n",
       "  </tbody>\n",
       "</table>\n",
       "</div>"
      ],
      "text/plain": [
       "               SPX          GLD          USO          SLV      EUR/USD\n",
       "count  2290.000000  2290.000000  2290.000000  2290.000000  2290.000000\n",
       "mean   1654.315776   122.732875    31.842221    20.084997     1.283653\n",
       "std     519.111540    23.283346    19.523517     7.092566     0.131547\n",
       "min     676.530029    70.000000     7.960000     8.850000     1.039047\n",
       "25%    1239.874969   109.725000    14.380000    15.570000     1.171313\n",
       "50%    1551.434998   120.580002    33.869999    17.268500     1.303296\n",
       "75%    2073.010070   132.840004    37.827501    22.882499     1.369971\n",
       "max    2872.870117   184.589996   117.480003    47.259998     1.598798"
      ]
     },
     "execution_count": 9,
     "metadata": {},
     "output_type": "execute_result"
    }
   ],
   "source": [
    "# getting the statistical measure of the data\n",
    "gold_data.describe()"
   ]
  },
  {
   "cell_type": "code",
   "execution_count": 10,
   "metadata": {},
   "outputs": [],
   "source": [
    "# correlation\n",
    "# postive correlation\n",
    "# negative correlation\n",
    "correlation = gold_data.corr()"
   ]
  },
  {
   "cell_type": "code",
   "execution_count": 13,
   "metadata": {},
   "outputs": [
    {
     "data": {
      "text/plain": [
       "<matplotlib.axes._subplots.AxesSubplot at 0x1f16defd518>"
      ]
     },
     "execution_count": 13,
     "metadata": {},
     "output_type": "execute_result"
    },
    {
     "data": {
      "image/png": "[encoded data removed]",
      "text/plain": [
       "<Figure size 576x576 with 2 Axes>"
      ]
     },
     "metadata": {},
     "output_type": "display_data"
    }
   ],
   "source": [
    "# constructing a heatmap to understand the correlation\n",
    "plt.figure(figsize = (8,8))\n",
    "sns.heatmap(correlation, cbar=True, square=True, fmt='.1f',annot=True, annot_kws={'size':8}, cmap='Blues')"
   ]
  },
  {
   "cell_type": "code",
   "execution_count": 14,
   "metadata": {},
   "outputs": [
    {
     "name": "stdout",
     "output_type": "stream",
     "text": [
      "SPX        0.049345\n",
      "GLD        1.000000\n",
      "USO       -0.186360\n",
      "SLV        0.866632\n",
      "EUR/USD   -0.024375\n",
      "Name: GLD, dtype: float64\n"
     ]
    }
   ],
   "source": [
    "# correlation value of gold\n",
    "print(correlation['GLD'])"
   ]
  },
  {
   "cell_type": "code",
   "execution_count": 15,
   "metadata": {},
   "outputs": [
    {
     "name": "stderr",
     "output_type": "stream",
     "text": [
      "C:\\ProgramData\\Anaconda3\\lib\\site-packages\\matplotlib\\axes\\_axes.py:6462: UserWarning: The 'normed' kwarg is deprecated, and has been replaced by the 'density' kwarg.\n",
      "  warnings.warn(\"The 'normed' kwarg is deprecated, and has been \"\n"
     ]
    },
    {
     "data": {
      "text/plain": [
       "<matplotlib.axes._subplots.AxesSubplot at 0x1f176a83710>"
      ]
     },
     "execution_count": 15,
     "metadata": {},
     "output_type": "execute_result"
    },
    {
     "data": {
      "image/png": "[encoded data removed]",
      "text/plain": [
       "<Figure size 432x288 with 1 Axes>"
      ]
     },
     "metadata": {},
     "output_type": "display_data"
    }
   ],
   "source": [
    "# checking the distribution of GLD price\n",
    "sns.distplot(gold_data['GLD'],color='green')"
   ]
  },
  {
   "cell_type": "code",
   "execution_count": 15,
   "metadata": {},
   "outputs": [],
   "source": [
    "#Splitting the features and traget\n",
    "X = gold_data.drop(['Date','GLD'],axis=1)\n",
    "Y = gold_data['GLD']\n"
   ]
  },
  {
   "cell_type": "code",
   "execution_count": 16,
   "metadata": {},
   "outputs": [
    {
     "name": "stdout",
     "output_type": "stream",
     "text": [
      "              SPX        USO        SLV   EUR/USD\n",
      "0     1447.160034  78.470001  15.180000  1.471692\n",
      "1     1447.160034  78.370003  15.285000  1.474491\n",
      "2     1411.630005  77.309998  15.167000  1.475492\n",
      "3     1416.180054  75.500000  15.053000  1.468299\n",
      "4     1390.189941  76.059998  15.590000  1.557099\n",
      "5     1409.130005  75.250000  15.520000  1.466405\n",
      "6     1420.329956  74.019997  16.061001  1.480100\n",
      "7     1401.020020  73.089996  16.077000  1.479006\n",
      "8     1416.250000  74.250000  16.280001  1.486900\n",
      "9     1380.949951  72.779999  15.834000  1.480210\n",
      "10    1373.199951  71.849998  15.654000  1.466405\n",
      "11    1333.250000  71.029999  15.717000  1.464000\n",
      "12    1325.189941  71.540001  16.030001  1.461796\n",
      "13    1310.500000  70.550003  15.902000  1.464794\n",
      "14    1338.599976  69.500000  15.900000  1.463208\n",
      "15    1352.069946  70.930000  16.299999  1.477410\n",
      "16    1330.609985  71.910004  16.298000  1.467502\n",
      "17    1353.959961  72.349998  16.549999  1.478809\n",
      "18    1362.300049  72.980003  16.534000  1.477192\n",
      "19    1355.810059  73.080002  16.674999  1.483107\n",
      "20    1378.550049  72.349998  16.818001  1.486503\n",
      "21    1395.420044  70.470001  16.618999  1.479991\n",
      "22    1380.819946  71.370003  16.514999  1.482800\n",
      "23    1336.640015  70.150002  16.167000  1.463807\n",
      "24    1326.449951  69.019997  16.375000  1.461710\n",
      "25    1336.910034  69.800003  16.670000  1.447890\n",
      "26    1331.290039  72.900002  17.025999  1.557099\n",
      "27    1339.130005  74.550003  17.400000  1.450200\n",
      "28    1348.859985  73.589996  17.033001  1.458194\n",
      "29    1367.209961  74.110001  17.132000  1.455604\n",
      "...           ...        ...        ...       ...\n",
      "2260  2658.550049  13.210000  15.720000  1.245749\n",
      "2261  2612.620117  13.080000  15.570000  1.240787\n",
      "2262  2605.000000  13.040000  15.360000  1.231027\n",
      "2263  2640.870117  13.090000  15.410000  1.230285\n",
      "2264  2581.879883  12.740000  15.650000  1.229271\n",
      "2265  2614.449951  12.810000  15.460000  1.227853\n",
      "2266  2644.689941  12.820000  15.380000  1.228682\n",
      "2267  2662.840088  12.830000  15.450000  1.225160\n",
      "2268  2613.159912  12.770000  15.560000  1.232240\n",
      "2269  2656.870117  13.250000  15.620000  1.236308\n",
      "2270  2642.189941  13.450000  15.690000  1.237164\n",
      "2271  2663.989990  13.520000  15.520000  1.232970\n",
      "2272  2677.840088  13.380000  15.720000  1.238513\n",
      "2273  2706.389893  13.410000  15.800000  1.237317\n",
      "2274  2708.639893  13.880000  16.180000  1.237915\n",
      "2275  2693.129883  13.770000  16.260000  1.234553\n",
      "2276  2670.290039  13.920000  15.670000  1.220897\n",
      "2277  2634.560059  13.680000  15.760000  1.224140\n",
      "2278  2639.399902  13.720000  15.610000  1.217167\n",
      "2279  2666.939941  13.770000  15.580000  1.210962\n",
      "2280  2648.050049  13.800000  15.380000  1.208123\n",
      "2281  2654.800049  13.610000  15.240000  1.199156\n",
      "2282  2635.669922  13.670000  15.420000  1.195100\n",
      "2283  2629.729980  13.820000  15.460000  1.198926\n",
      "2284  2672.629883  14.100000  15.520000  1.193374\n",
      "2285  2671.919922  14.060000  15.510000  1.186789\n",
      "2286  2697.790039  14.370000  15.530000  1.184722\n",
      "2287  2723.070068  14.410000  15.740000  1.191753\n",
      "2288  2730.129883  14.380000  15.560000  1.193118\n",
      "2289  2725.780029  14.405800  15.454200  1.182033\n",
      "\n",
      "[2290 rows x 4 columns]\n"
     ]
    }
   ],
   "source": [
    "print(X)"
   ]
  },
  {
   "cell_type": "code",
   "execution_count": 17,
   "metadata": {},
   "outputs": [
    {
     "name": "stdout",
     "output_type": "stream",
     "text": [
      "0        84.860001\n",
      "1        85.570000\n",
      "2        85.129997\n",
      "3        84.769997\n",
      "4        86.779999\n",
      "5        86.550003\n",
      "6        88.250000\n",
      "7        88.580002\n",
      "8        89.540001\n",
      "9        87.989998\n",
      "10       86.699997\n",
      "11       86.500000\n",
      "12       87.419998\n",
      "13       88.169998\n",
      "14       87.889999\n",
      "15       90.080002\n",
      "16       90.300003\n",
      "17       91.750000\n",
      "18       91.150002\n",
      "19       92.059998\n",
      "20       91.400002\n",
      "21       89.349998\n",
      "22       89.099998\n",
      "23       87.680000\n",
      "24       88.949997\n",
      "25       89.849998\n",
      "26       91.000000\n",
      "27       91.330002\n",
      "28       89.330002\n",
      "29       89.440002\n",
      "           ...    \n",
      "2260    128.279999\n",
      "2261    127.489998\n",
      "2262    125.730003\n",
      "2263    125.790001\n",
      "2264    127.260002\n",
      "2265    126.300003\n",
      "2266    126.449997\n",
      "2267    125.800003\n",
      "2268    126.820000\n",
      "2269    127.120003\n",
      "2270    128.110001\n",
      "2271    126.620003\n",
      "2272    127.629997\n",
      "2273    127.750000\n",
      "2274    127.849998\n",
      "2275    127.599998\n",
      "2276    125.620003\n",
      "2277    126.230003\n",
      "2278    125.410004\n",
      "2279    124.970001\n",
      "2280    124.589996\n",
      "2281    123.709999\n",
      "2282    123.650002\n",
      "2283    124.279999\n",
      "2284    124.570000\n",
      "2285    124.589996\n",
      "2286    124.330002\n",
      "2287    125.180000\n",
      "2288    124.489998\n",
      "2289    122.543800\n",
      "Name: GLD, Length: 2290, dtype: float64\n"
     ]
    }
   ],
   "source": [
    "print(Y)"
   ]
  },
  {
   "cell_type": "code",
   "execution_count": 18,
   "metadata": {},
   "outputs": [],
   "source": [
    "# Splitting into Training Data and Testing Data\n",
    "X_train, X_test, Y_train, Y_test = train_test_split(X, Y, test_size = 0.2, random_state=2)\n"
   ]
  },
  {
   "cell_type": "code",
   "execution_count": 19,
   "metadata": {},
   "outputs": [
    {
     "data": {
      "text/html": [
       "<div>\n",
       "<style scoped>\n",
       "    .dataframe tbody tr th:only-of-type {\n",
       "        vertical-align: middle;\n",
       "    }\n",
       "\n",
       "    .dataframe tbody tr th {\n",
       "        vertical-align: top;\n",
       "    }\n",
       "\n",
       "    .dataframe thead th {\n",
       "        text-align: right;\n",
       "    }\n",
       "</style>\n",
       "<table border=\"1\" class=\"dataframe\">\n",
       "  <thead>\n",
       "    <tr style=\"text-align: right;\">\n",
       "      <th></th>\n",
       "      <th>SPX</th>\n",
       "      <th>USO</th>\n",
       "      <th>SLV</th>\n",
       "      <th>EUR/USD</th>\n",
       "    </tr>\n",
       "  </thead>\n",
       "  <tbody>\n",
       "    <tr>\n",
       "      <th>476</th>\n",
       "      <td>1138.500000</td>\n",
       "      <td>39.790001</td>\n",
       "      <td>16.889999</td>\n",
       "      <td>1.361693</td>\n",
       "    </tr>\n",
       "    <tr>\n",
       "      <th>1958</th>\n",
       "      <td>2202.939941</td>\n",
       "      <td>10.630000</td>\n",
       "      <td>15.800000</td>\n",
       "      <td>1.063886</td>\n",
       "    </tr>\n",
       "    <tr>\n",
       "      <th>248</th>\n",
       "      <td>700.820007</td>\n",
       "      <td>24.480000</td>\n",
       "      <td>12.770000</td>\n",
       "      <td>1.256408</td>\n",
       "    </tr>\n",
       "    <tr>\n",
       "      <th>2231</th>\n",
       "      <td>2656.000000</td>\n",
       "      <td>11.890000</td>\n",
       "      <td>15.570000</td>\n",
       "      <td>1.225280</td>\n",
       "    </tr>\n",
       "    <tr>\n",
       "      <th>1325</th>\n",
       "      <td>1838.880005</td>\n",
       "      <td>33.040001</td>\n",
       "      <td>19.420000</td>\n",
       "      <td>1.366998</td>\n",
       "    </tr>\n",
       "  </tbody>\n",
       "</table>\n",
       "</div>"
      ],
      "text/plain": [
       "              SPX        USO        SLV   EUR/USD\n",
       "476   1138.500000  39.790001  16.889999  1.361693\n",
       "1958  2202.939941  10.630000  15.800000  1.063886\n",
       "248    700.820007  24.480000  12.770000  1.256408\n",
       "2231  2656.000000  11.890000  15.570000  1.225280\n",
       "1325  1838.880005  33.040001  19.420000  1.366998"
      ]
     },
     "execution_count": 19,
     "metadata": {},
     "output_type": "execute_result"
    }
   ],
   "source": [
    "X_train.head()"
   ]
  },
  {
   "cell_type": "code",
   "execution_count": 20,
   "metadata": {},
   "outputs": [],
   "source": [
    "# Model Training Random Forest Regression\n",
    "regressor = RandomForestRegressor(n_estimators=100)"
   ]
  },
  {
   "cell_type": "code",
   "execution_count": 22,
   "metadata": {},
   "outputs": [
    {
     "data": {
      "text/plain": [
       "RandomForestRegressor(bootstrap=True, criterion='mse', max_depth=None,\n",
       "           max_features='auto', max_leaf_nodes=None,\n",
       "           min_impurity_decrease=0.0, min_impurity_split=None,\n",
       "           min_samples_leaf=1, min_samples_split=2,\n",
       "           min_weight_fraction_leaf=0.0, n_estimators=100, n_jobs=1,\n",
       "           oob_score=False, random_state=None, verbose=0, warm_start=False)"
      ]
     },
     "execution_count": 22,
     "metadata": {},
     "output_type": "execute_result"
    }
   ],
   "source": [
    "regressor.fit(X_train,Y_train)"
   ]
  },
  {
   "cell_type": "code",
   "execution_count": 23,
   "metadata": {
    "scrolled": true
   },
   "outputs": [],
   "source": [
    "# Prediction on test data\n",
    "test_data_prediction = regressor.predict(X_test)\n"
   ]
  },
  {
   "cell_type": "code",
   "execution_count": 24,
   "metadata": {},
   "outputs": [
    {
     "name": "stdout",
     "output_type": "stream",
     "text": [
      "[168.5692991   82.1945997  116.0238006  127.64930059 120.85520117\n",
      " 154.65709729 150.37359932 126.15380022 117.55679861 125.92790091\n",
      " 116.63900108 171.37150035 141.41169896 167.96399897 115.03160016\n",
      " 117.59970071 138.95350266 170.43990121 159.51360255 161.16329873\n",
      " 155.22790078 125.56490041 175.03259972 157.207204   125.18230036\n",
      "  93.99850016  76.89190048 120.45170027 119.12299934 167.4622\n",
      "  88.3144004  125.16439978  91.30760076 117.75720021 120.99339966\n",
      " 136.73620079 115.79630107 115.1806007  145.19859926 107.14680064\n",
      " 104.54790248  87.12249784 126.55870032 117.95139989 154.3474991\n",
      " 119.80789987 108.45489937 108.16779793  93.23590028 127.06539795\n",
      "  75.22900029 113.67129937 121.25239994 111.44149937 118.94839891\n",
      " 120.87209917 160.12439919 169.65590107 146.66139642  85.78389856\n",
      "  94.57880027  86.84079898  90.78070017 118.93900089 126.4169006\n",
      " 127.53380018 169.41370003 122.16459955 117.47909885  98.50130048\n",
      " 168.35220159 142.90169852 131.93120254 121.14140211 121.16809939\n",
      " 119.77180034 114.54930152 118.55140043 106.9548008  127.96720141\n",
      " 114.15739956 107.0770997  116.81090084 119.54979936  88.8981012\n",
      "  88.25009854 146.0081024  127.30490019 113.0447006  110.1746985\n",
      " 108.28989893  77.51059906 168.56480177 114.13049909 121.64519891\n",
      " 128.05700176 154.87849825  91.86429937 137.55520164 158.76020366\n",
      " 124.98470105 125.3645006  130.66930221 114.93020105 119.78359988\n",
      "  92.20029983 110.44849866 168.06369928 158.19929872 114.27659949\n",
      " 106.66900157  79.53359986 113.24740033 125.71740062 106.92909965\n",
      " 119.51420082 155.4071025  159.6835992  120.16620026 135.31390223\n",
      " 101.32279994 117.86359765 119.32390047 112.91520065 102.77609913\n",
      " 160.37589813  99.66320028 148.15519965 125.60820109 169.75469943\n",
      " 125.93079862 127.2146979  127.5096021  113.82519942 113.04150077\n",
      " 123.34819921 102.179199    89.30179976 124.44529991 101.89859933\n",
      " 106.94049923 113.8464008  117.58760038  99.2167995  121.82260046\n",
      " 163.10079857  87.40559881 106.72719993 117.01280103 127.80550142\n",
      " 124.06960079  80.81309922 120.40530054 157.81639898  88.00609985\n",
      " 110.47879919 118.713899   172.25219853 103.05899884 105.51680031\n",
      " 122.70730054 157.68069857  87.64739851  93.62810041 112.69430044\n",
      " 177.18659914 114.3896     119.3152003   94.53340094 125.60189983\n",
      " 166.3353013  114.75340054 116.74440126  88.29669855 149.25270078\n",
      " 120.38379952  89.33609963 111.88250008 117.67430054 118.87750111\n",
      "  88.08739944  94.01559988 117.02850041 118.63330195 120.23310033\n",
      " 126.4937989  121.91269974 150.60499984 164.56779999 118.63899935\n",
      " 120.17180141 150.31660079 118.33389904 172.48069905 105.28889957\n",
      " 104.94000113 150.29050107 113.97700076 124.88310133 147.42359988\n",
      " 119.52880115 115.35120021 112.04060009 113.46700194 141.61570134\n",
      " 117.95129758 102.93230044 115.83830118 103.97780171  99.3034005\n",
      " 117.24900061  90.63240028  91.62620026 153.46700002 102.78279976\n",
      " 154.13610073 114.42440148 139.41790105  90.01469815 115.53859971\n",
      " 114.85930016 123.13120044 121.90269983 165.43490135  92.85629922\n",
      " 135.28960157 121.37399927 120.83930052 104.73760004 142.43500281\n",
      " 121.42439907 116.63150059 113.62200095 126.95999815 122.80799952\n",
      " 125.8016999  121.22310031  86.87239894 132.72570144 146.22170148\n",
      "  92.7260997  156.03349938 158.86260321 126.36839881 164.32879898\n",
      " 108.92749969 109.91320097 103.66229826  94.51250103 128.05530313\n",
      " 107.06480085 158.6154999  121.64550038 131.8929006  130.67400192\n",
      " 160.73279932  89.99649871 174.34730185 127.27910023 126.57079934\n",
      "  86.3357997  124.54959973 150.41699772  89.73390017 106.88100006\n",
      " 109.12149991  84.90809909 136.2250004  155.10650163 138.16310368\n",
      "  73.76630018 152.6808012  126.04629963 126.75580029 127.50519899\n",
      " 108.39089984 156.34759944 114.63930102 117.04430101 125.35849928\n",
      " 153.81800105 121.33949959 156.520098    92.92020056 125.56870182\n",
      " 125.68950041  88.16480067  92.0519993  126.20079963 128.29540377\n",
      " 113.24580068 117.73589742 120.8758001  127.14599774 119.6337013\n",
      " 136.81690068  93.85729968 119.72230032 113.16200104  94.2213993\n",
      " 108.82079955  87.22699949 108.64669973  89.58039979  92.49380008\n",
      " 131.55460311 162.6093005   89.25890012 119.7574009  133.16660112\n",
      " 123.83390002 128.46980218 101.98769856  88.9592985  131.59540075\n",
      " 119.96760034 108.81589957 165.79390078 115.09270025  86.56349888\n",
      " 118.76880076  91.06599966 161.97280001 116.42360035 121.52989985\n",
      " 160.41939829 120.0676992  112.67569941 108.48869869 126.72580016\n",
      "  76.14400031 102.98429984 127.81820284 121.83069881  92.58949999\n",
      " 131.72290037 118.20010107 116.08209986 154.68440257 159.17910064\n",
      " 110.07189953 158.33779893 119.41020073 160.65420155 118.55200063\n",
      " 158.56779961 115.08139929 116.52680043 149.40949979 114.94840076\n",
      " 125.62679853 165.54160005 117.71130025 125.14039923 153.18440387\n",
      " 153.49170161 131.99930087 114.83280049 121.14450239 124.93470049\n",
      "  89.85360027 123.28569967 155.22010134 111.61890026 106.49730007\n",
      " 161.62940143 118.50119941 165.64739958 134.10730034 115.24209943\n",
      " 152.86189812 168.69329987 115.82459977 114.18590122 158.9970981\n",
      "  85.22809882 127.1665005  127.98760036 128.87359998 124.50900081\n",
      " 123.93720082  90.712501   153.26060057  97.22349971 137.76719944\n",
      "  88.99889932 106.95209985 115.1243006  112.88500074 124.55759919\n",
      "  91.53089875 125.33580113 162.73479796 119.69599888 165.19850096\n",
      " 126.5852985  112.42939978 127.42769954  95.21439959  91.1307998\n",
      " 103.27109903 120.65620001  83.01469927 126.34729975 159.84820432\n",
      " 117.23160096 118.29719962 119.76260024 122.66359956 120.11110135\n",
      " 121.48589947 118.27230086 106.87330012 148.06399908 126.23549816\n",
      " 115.7204004   73.95080027 127.7741008  154.87460109 122.03060006\n",
      " 125.57300052  88.93380049 103.36309863 124.70000035 120.32860027\n",
      "  73.38500092 151.26810025 121.10160031 104.65330004  86.31329801\n",
      " 115.10539911 172.19699829 119.9573002  160.0325983  113.15529958\n",
      " 121.4518999  118.64950114  95.86309978 118.76829995 126.03560018\n",
      " 118.54279971  96.02210082 153.81640185 122.11049998 147.09880076\n",
      " 159.49590183 114.01370035 122.50549954 150.73229904 126.98490037\n",
      " 165.84100026 136.30500108 119.98009962 167.50569843 108.40789876\n",
      " 121.87759844 137.95770082 107.29419886]\n"
     ]
    }
   ],
   "source": [
    "print(test_data_prediction)"
   ]
  },
  {
   "cell_type": "code",
   "execution_count": 25,
   "metadata": {},
   "outputs": [
    {
     "name": "stdout",
     "output_type": "stream",
     "text": [
      "R squared error :  0.9894247428649651\n"
     ]
    }
   ],
   "source": [
    "# R square error\n",
    "error_score =metrics.r2_score(Y_test,test_data_prediction)\n",
    "print(\"R squared error : \",error_score)"
   ]
  },
  {
   "cell_type": "code",
   "execution_count": 26,
   "metadata": {},
   "outputs": [],
   "source": [
    "Y_test = list(Y_test)"
   ]
  },
  {
   "cell_type": "code",
   "execution_count": 27,
   "metadata": {},
   "outputs": [
    {
     "data": {
      "image/png": "[encoded data removed]",
      "text/plain": [
       "<Figure size 432x288 with 1 Axes>"
      ]
     },
     "metadata": {},
     "output_type": "display_data"
    }
   ],
   "source": [
    "plt.plot(Y_test,color='blue',label='Actual Value')\n",
    "plt.plot(test_data_prediction,color='green',label='Prediction Value')\n",
    "plt.title('Actual Price vs Predicted Price')\n",
    "plt.xlabel('Number of values')\n",
    "plt.ylabel('GLD Price')\n",
    "plt.legend()\n",
    "plt.show()"
   ]
  },
  {
   "cell_type": "code",
   "execution_count": 29,
   "metadata": {},
   "outputs": [],
   "source": [
    "input_data = (1447.160034,78.470001,151800,1.471692)\n",
    "\n",
    "# changing the input data to a numpy array\n",
    "input_data_as_numpy_array =np.asarray(input_data)\n",
    "\n",
    "# reshape the data as we are predicting the labelfor only one instance\n",
    "input_data_reshaped = input_data_as_numpy_array.reshape(1,-1)\n",
    "prediction =regressor.predict(input_data_reshaped)[0]"
   ]
  },
  {
   "cell_type": "code",
   "execution_count": 30,
   "metadata": {},
   "outputs": [
    {
     "data": {
      "text/plain": [
       "150.83440078999988"
      ]
     },
     "execution_count": 30,
     "metadata": {},
     "output_type": "execute_result"
    }
   ],
   "source": [
    "prediction"
   ]
  }
 ],
 "metadata": {
  "kernelspec": {
   "display_name": "Python 3",
   "language": "python",
   "name": "python3"
  },
  "language_info": {
   "codemirror_mode": {
    "name": "ipython",
    "version": 3
   },
   "file_extension": ".py",
   "mimetype": "text/x-python",
   "name": "python",
   "nbconvert_exporter": "python",
   "pygments_lexer": "ipython3",
   "version": "3.6.5"
  }
 },
 "nbformat": 4,
 "nbformat_minor": 2
}
